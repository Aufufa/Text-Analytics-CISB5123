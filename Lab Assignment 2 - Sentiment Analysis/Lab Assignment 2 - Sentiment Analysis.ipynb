{
 "cells": [
  {
   "cell_type": "markdown",
   "id": "1c671165-c676-4bac-a6bb-87146cb25537",
   "metadata": {},
   "source": [
    "#### <center> CISB5123 Text Analytics </center>\n",
    "#### <center> Sem 2 2024/2025 </center>"
   ]
  },
  {
   "cell_type": "markdown",
   "id": "3e2a2861-6f58-4d95-8393-793dacd0620b",
   "metadata": {},
   "source": [
    "## <center> Lab Assignment 2 - Sentiment Analysis on Amazon Fine Food Reviews</center>"
   ]
  },
  {
   "cell_type": "markdown",
   "id": "3d3d84ff-f3fc-40c2-89e7-009ab26d4698",
   "metadata": {},
   "source": [
    "### 1) Amirul Farhan bin Kamaruzaman, SW01082374\n",
    "### 2) Maizatul Aufa binti Zamidi, SW01082394"
   ]
  },
  {
   "cell_type": "code",
   "execution_count": 4,
   "id": "7ede5d18-0c17-420d-933d-5a2646f2d4b4",
   "metadata": {},
   "outputs": [],
   "source": [
    "#Load the Amazon Fine Food Reviews dataset\n",
    "import pandas as pd\n",
    "file_path = \"Reviews.csv\"\n",
    "df = pd.read_csv(file_path)"
   ]
  },
  {
   "cell_type": "code",
   "execution_count": 5,
   "id": "8e15bf72-896e-443b-a988-7daf236f3884",
   "metadata": {},
   "outputs": [
    {
     "name": "stdout",
     "output_type": "stream",
     "text": [
      "<class 'pandas.core.frame.DataFrame'>\n",
      "RangeIndex: 568454 entries, 0 to 568453\n",
      "Data columns (total 10 columns):\n",
      " #   Column                  Non-Null Count   Dtype \n",
      "---  ------                  --------------   ----- \n",
      " 0   Id                      568454 non-null  int64 \n",
      " 1   ProductId               568454 non-null  object\n",
      " 2   UserId                  568454 non-null  object\n",
      " 3   ProfileName             568428 non-null  object\n",
      " 4   HelpfulnessNumerator    568454 non-null  int64 \n",
      " 5   HelpfulnessDenominator  568454 non-null  int64 \n",
      " 6   Score                   568454 non-null  int64 \n",
      " 7   Time                    568454 non-null  int64 \n",
      " 8   Summary                 568427 non-null  object\n",
      " 9   Text                    568454 non-null  object\n",
      "dtypes: int64(5), object(5)\n",
      "memory usage: 43.4+ MB\n"
     ]
    }
   ],
   "source": [
    "#Display basic information about dataset\n",
    "df.info()"
   ]
  },
  {
   "cell_type": "code",
   "execution_count": 6,
   "id": "2b167afa-d802-438c-9a1b-447f24cf1e71",
   "metadata": {},
   "outputs": [
    {
     "data": {
      "text/html": [
       "<div>\n",
       "<style scoped>\n",
       "    .dataframe tbody tr th:only-of-type {\n",
       "        vertical-align: middle;\n",
       "    }\n",
       "\n",
       "    .dataframe tbody tr th {\n",
       "        vertical-align: top;\n",
       "    }\n",
       "\n",
       "    .dataframe thead th {\n",
       "        text-align: right;\n",
       "    }\n",
       "</style>\n",
       "<table border=\"1\" class=\"dataframe\">\n",
       "  <thead>\n",
       "    <tr style=\"text-align: right;\">\n",
       "      <th></th>\n",
       "      <th>Id</th>\n",
       "      <th>ProductId</th>\n",
       "      <th>UserId</th>\n",
       "      <th>ProfileName</th>\n",
       "      <th>HelpfulnessNumerator</th>\n",
       "      <th>HelpfulnessDenominator</th>\n",
       "      <th>Score</th>\n",
       "      <th>Time</th>\n",
       "      <th>Summary</th>\n",
       "      <th>Text</th>\n",
       "    </tr>\n",
       "  </thead>\n",
       "  <tbody>\n",
       "    <tr>\n",
       "      <th>0</th>\n",
       "      <td>1</td>\n",
       "      <td>B001E4KFG0</td>\n",
       "      <td>A3SGXH7AUHU8GW</td>\n",
       "      <td>delmartian</td>\n",
       "      <td>1</td>\n",
       "      <td>1</td>\n",
       "      <td>5</td>\n",
       "      <td>1303862400</td>\n",
       "      <td>Good Quality Dog Food</td>\n",
       "      <td>I have bought several of the Vitality canned d...</td>\n",
       "    </tr>\n",
       "    <tr>\n",
       "      <th>1</th>\n",
       "      <td>2</td>\n",
       "      <td>B00813GRG4</td>\n",
       "      <td>A1D87F6ZCVE5NK</td>\n",
       "      <td>dll pa</td>\n",
       "      <td>0</td>\n",
       "      <td>0</td>\n",
       "      <td>1</td>\n",
       "      <td>1346976000</td>\n",
       "      <td>Not as Advertised</td>\n",
       "      <td>Product arrived labeled as Jumbo Salted Peanut...</td>\n",
       "    </tr>\n",
       "    <tr>\n",
       "      <th>2</th>\n",
       "      <td>3</td>\n",
       "      <td>B000LQOCH0</td>\n",
       "      <td>ABXLMWJIXXAIN</td>\n",
       "      <td>Natalia Corres \"Natalia Corres\"</td>\n",
       "      <td>1</td>\n",
       "      <td>1</td>\n",
       "      <td>4</td>\n",
       "      <td>1219017600</td>\n",
       "      <td>\"Delight\" says it all</td>\n",
       "      <td>This is a confection that has been around a fe...</td>\n",
       "    </tr>\n",
       "    <tr>\n",
       "      <th>3</th>\n",
       "      <td>4</td>\n",
       "      <td>B000UA0QIQ</td>\n",
       "      <td>A395BORC6FGVXV</td>\n",
       "      <td>Karl</td>\n",
       "      <td>3</td>\n",
       "      <td>3</td>\n",
       "      <td>2</td>\n",
       "      <td>1307923200</td>\n",
       "      <td>Cough Medicine</td>\n",
       "      <td>If you are looking for the secret ingredient i...</td>\n",
       "    </tr>\n",
       "    <tr>\n",
       "      <th>4</th>\n",
       "      <td>5</td>\n",
       "      <td>B006K2ZZ7K</td>\n",
       "      <td>A1UQRSCLF8GW1T</td>\n",
       "      <td>Michael D. Bigham \"M. Wassir\"</td>\n",
       "      <td>0</td>\n",
       "      <td>0</td>\n",
       "      <td>5</td>\n",
       "      <td>1350777600</td>\n",
       "      <td>Great taffy</td>\n",
       "      <td>Great taffy at a great price.  There was a wid...</td>\n",
       "    </tr>\n",
       "  </tbody>\n",
       "</table>\n",
       "</div>"
      ],
      "text/plain": [
       "   Id   ProductId          UserId                      ProfileName  \\\n",
       "0   1  B001E4KFG0  A3SGXH7AUHU8GW                       delmartian   \n",
       "1   2  B00813GRG4  A1D87F6ZCVE5NK                           dll pa   \n",
       "2   3  B000LQOCH0   ABXLMWJIXXAIN  Natalia Corres \"Natalia Corres\"   \n",
       "3   4  B000UA0QIQ  A395BORC6FGVXV                             Karl   \n",
       "4   5  B006K2ZZ7K  A1UQRSCLF8GW1T    Michael D. Bigham \"M. Wassir\"   \n",
       "\n",
       "   HelpfulnessNumerator  HelpfulnessDenominator  Score        Time  \\\n",
       "0                     1                       1      5  1303862400   \n",
       "1                     0                       0      1  1346976000   \n",
       "2                     1                       1      4  1219017600   \n",
       "3                     3                       3      2  1307923200   \n",
       "4                     0                       0      5  1350777600   \n",
       "\n",
       "                 Summary                                               Text  \n",
       "0  Good Quality Dog Food  I have bought several of the Vitality canned d...  \n",
       "1      Not as Advertised  Product arrived labeled as Jumbo Salted Peanut...  \n",
       "2  \"Delight\" says it all  This is a confection that has been around a fe...  \n",
       "3         Cough Medicine  If you are looking for the secret ingredient i...  \n",
       "4            Great taffy  Great taffy at a great price.  There was a wid...  "
      ]
     },
     "execution_count": 6,
     "metadata": {},
     "output_type": "execute_result"
    }
   ],
   "source": [
    "df.head()"
   ]
  },
  {
   "cell_type": "code",
   "execution_count": 7,
   "id": "2ddfdab8-6315-484d-9d36-f7870b690e8c",
   "metadata": {},
   "outputs": [],
   "source": [
    "df = df[['Score', 'Text']].dropna()"
   ]
  },
  {
   "cell_type": "code",
   "execution_count": 8,
   "id": "7e33f647-3065-41d6-afa4-4e5e2b1b89df",
   "metadata": {},
   "outputs": [
    {
     "data": {
      "text/html": [
       "<div>\n",
       "<style scoped>\n",
       "    .dataframe tbody tr th:only-of-type {\n",
       "        vertical-align: middle;\n",
       "    }\n",
       "\n",
       "    .dataframe tbody tr th {\n",
       "        vertical-align: top;\n",
       "    }\n",
       "\n",
       "    .dataframe thead th {\n",
       "        text-align: right;\n",
       "    }\n",
       "</style>\n",
       "<table border=\"1\" class=\"dataframe\">\n",
       "  <thead>\n",
       "    <tr style=\"text-align: right;\">\n",
       "      <th></th>\n",
       "      <th>Score</th>\n",
       "      <th>Text</th>\n",
       "    </tr>\n",
       "  </thead>\n",
       "  <tbody>\n",
       "    <tr>\n",
       "      <th>0</th>\n",
       "      <td>5</td>\n",
       "      <td>I have bought several of the Vitality canned d...</td>\n",
       "    </tr>\n",
       "    <tr>\n",
       "      <th>1</th>\n",
       "      <td>1</td>\n",
       "      <td>Product arrived labeled as Jumbo Salted Peanut...</td>\n",
       "    </tr>\n",
       "    <tr>\n",
       "      <th>2</th>\n",
       "      <td>4</td>\n",
       "      <td>This is a confection that has been around a fe...</td>\n",
       "    </tr>\n",
       "    <tr>\n",
       "      <th>3</th>\n",
       "      <td>2</td>\n",
       "      <td>If you are looking for the secret ingredient i...</td>\n",
       "    </tr>\n",
       "    <tr>\n",
       "      <th>4</th>\n",
       "      <td>5</td>\n",
       "      <td>Great taffy at a great price.  There was a wid...</td>\n",
       "    </tr>\n",
       "  </tbody>\n",
       "</table>\n",
       "</div>"
      ],
      "text/plain": [
       "   Score                                               Text\n",
       "0      5  I have bought several of the Vitality canned d...\n",
       "1      1  Product arrived labeled as Jumbo Salted Peanut...\n",
       "2      4  This is a confection that has been around a fe...\n",
       "3      2  If you are looking for the secret ingredient i...\n",
       "4      5  Great taffy at a great price.  There was a wid..."
      ]
     },
     "execution_count": 8,
     "metadata": {},
     "output_type": "execute_result"
    }
   ],
   "source": [
    "df.head()"
   ]
  },
  {
   "cell_type": "code",
   "execution_count": 9,
   "id": "6eee4736-393d-4471-a7fb-7ea2896f1b07",
   "metadata": {},
   "outputs": [
    {
     "name": "stdout",
     "output_type": "stream",
     "text": [
      "Requirement already satisfied: afinn in c:\\users\\maiza\\anaconda3\\lib\\site-packages (0.1)\n"
     ]
    }
   ],
   "source": [
    "!pip install afinn"
   ]
  },
  {
   "cell_type": "code",
   "execution_count": 10,
   "id": "dff5c528-4510-4c8d-b598-b76f728540ab",
   "metadata": {},
   "outputs": [],
   "source": [
    "import numpy as np\n",
    "import string\n",
    "from nltk.corpus import stopwords\n",
    "from nltk.tokenize import word_tokenize\n",
    "from nltk.stem import PorterStemmer\n",
    "from afinn import Afinn\n",
    "import matplotlib.pyplot as plt\n",
    "import seaborn as sns"
   ]
  },
  {
   "cell_type": "code",
   "execution_count": 11,
   "id": "310c0055-8502-4bd6-8060-6f0934a17bf7",
   "metadata": {},
   "outputs": [
    {
     "data": {
      "text/plain": [
       "original_sentiment\n",
       "positive    443777\n",
       "negative     82037\n",
       "neutral      42640\n",
       "Name: count, dtype: int64"
      ]
     },
     "execution_count": 11,
     "metadata": {},
     "output_type": "execute_result"
    }
   ],
   "source": [
    "def label_sentiment(score):\n",
    "    if score >= 4:\n",
    "        return \"positive\"\n",
    "    elif score == 3:\n",
    "        return \"neutral\"\n",
    "    else:\n",
    "        return \"negative\"\n",
    "\n",
    "df['original_sentiment'] = df['Score'].apply(label_sentiment)\n",
    "df['original_sentiment'].value_counts()"
   ]
  },
  {
   "cell_type": "code",
   "execution_count": 12,
   "id": "86a634cd-c14a-4038-984a-e4742691a8cc",
   "metadata": {},
   "outputs": [
    {
     "name": "stdout",
     "output_type": "stream",
     "text": [
      "Requirement already satisfied: tqdm in c:\\users\\maiza\\anaconda3\\lib\\site-packages (4.66.4)\n",
      "Requirement already satisfied: colorama in c:\\users\\maiza\\anaconda3\\lib\\site-packages (from tqdm) (0.4.6)\n"
     ]
    }
   ],
   "source": [
    "!pip install tqdm"
   ]
  },
  {
   "cell_type": "markdown",
   "id": "3d6df1dc-6be7-4b5c-9ae1-9931ae9dacab",
   "metadata": {},
   "source": [
    "### Lexicon-based approach"
   ]
  },
  {
   "cell_type": "code",
   "execution_count": 13,
   "id": "ae136d80-d8b9-438f-8a47-ef7dcb439cf3",
   "metadata": {},
   "outputs": [
    {
     "name": "stderr",
     "output_type": "stream",
     "text": [
      "100%|██████████| 568454/568454 [19:58<00:00, 474.40it/s]\n"
     ]
    },
    {
     "data": {
      "text/html": [
       "<div>\n",
       "<style scoped>\n",
       "    .dataframe tbody tr th:only-of-type {\n",
       "        vertical-align: middle;\n",
       "    }\n",
       "\n",
       "    .dataframe tbody tr th {\n",
       "        vertical-align: top;\n",
       "    }\n",
       "\n",
       "    .dataframe thead th {\n",
       "        text-align: right;\n",
       "    }\n",
       "</style>\n",
       "<table border=\"1\" class=\"dataframe\">\n",
       "  <thead>\n",
       "    <tr style=\"text-align: right;\">\n",
       "      <th></th>\n",
       "      <th>afinn_score</th>\n",
       "      <th>afinn_sentiment</th>\n",
       "    </tr>\n",
       "  </thead>\n",
       "  <tbody>\n",
       "    <tr>\n",
       "      <th>0</th>\n",
       "      <td>16.0</td>\n",
       "      <td>positive</td>\n",
       "    </tr>\n",
       "    <tr>\n",
       "      <th>1</th>\n",
       "      <td>-2.0</td>\n",
       "      <td>negative</td>\n",
       "    </tr>\n",
       "    <tr>\n",
       "      <th>2</th>\n",
       "      <td>3.0</td>\n",
       "      <td>positive</td>\n",
       "    </tr>\n",
       "    <tr>\n",
       "      <th>3</th>\n",
       "      <td>3.0</td>\n",
       "      <td>positive</td>\n",
       "    </tr>\n",
       "    <tr>\n",
       "      <th>4</th>\n",
       "      <td>9.0</td>\n",
       "      <td>positive</td>\n",
       "    </tr>\n",
       "  </tbody>\n",
       "</table>\n",
       "</div>"
      ],
      "text/plain": [
       "   afinn_score afinn_sentiment\n",
       "0         16.0        positive\n",
       "1         -2.0        negative\n",
       "2          3.0        positive\n",
       "3          3.0        positive\n",
       "4          9.0        positive"
      ]
     },
     "execution_count": 13,
     "metadata": {},
     "output_type": "execute_result"
    }
   ],
   "source": [
    "from tqdm import tqdm\n",
    "tqdm.pandas()\n",
    "\n",
    "af = Afinn()\n",
    "\n",
    "df['afinn_score'] = df['Text'].progress_apply(lambda x: af.score(x))\n",
    "\n",
    "df['afinn_sentiment'] = df['afinn_score'].apply(\n",
    "    lambda x: 'positive' if x > 0 else 'negative' if x < 0 else 'neutral'\n",
    ")\n",
    "\n",
    "df[['afinn_score', 'afinn_sentiment']].head()"
   ]
  },
  {
   "cell_type": "markdown",
   "id": "59dbb204-718e-4fb1-b9e4-d257db4e02fb",
   "metadata": {},
   "source": [
    "### Preprocessing"
   ]
  },
  {
   "cell_type": "code",
   "execution_count": 14,
   "id": "ae7ec517-2c3b-4ad1-8e0e-418f5e166d03",
   "metadata": {},
   "outputs": [
    {
     "name": "stderr",
     "output_type": "stream",
     "text": [
      "[nltk_data] Downloading package punkt to\n",
      "[nltk_data]     C:\\Users\\maiza\\AppData\\Roaming\\nltk_data...\n",
      "[nltk_data]   Package punkt is already up-to-date!\n",
      "[nltk_data] Downloading package stopwords to\n",
      "[nltk_data]     C:\\Users\\maiza\\AppData\\Roaming\\nltk_data...\n",
      "[nltk_data]   Package stopwords is already up-to-date!\n",
      "100%|██████████| 568454/568454 [16:04<00:00, 589.37it/s] \n"
     ]
    }
   ],
   "source": [
    "# Preprocessing setup\n",
    "import nltk\n",
    "nltk.download('punkt')\n",
    "nltk.download('stopwords')\n",
    "\n",
    "tqdm.pandas()\n",
    "\n",
    "stop_words = set(stopwords.words('english'))\n",
    "stemmer = PorterStemmer()\n",
    "\n",
    "def preprocess(text):\n",
    "    text = text.lower().translate(str.maketrans('', '', string.punctuation))\n",
    "    tokens = word_tokenize(text)\n",
    "    filtered = [stemmer.stem(w) for w in tokens if w not in stop_words and w.isalpha()]\n",
    "    return ' '.join(filtered)\n",
    "\n",
    "df['processed_text'] = df['Text'].progress_apply(preprocess) "
   ]
  },
  {
   "cell_type": "markdown",
   "id": "b530814a-5b90-4172-a31b-0f2c7a926a2e",
   "metadata": {},
   "source": [
    "### Feature Extraction (TF-IDF)"
   ]
  },
  {
   "cell_type": "code",
   "execution_count": 15,
   "id": "bf240b1d-5ca4-4c96-9b18-d63ea27d8082",
   "metadata": {},
   "outputs": [
    {
     "data": {
      "text/plain": [
       "(568454, 5000)"
      ]
     },
     "execution_count": 15,
     "metadata": {},
     "output_type": "execute_result"
    }
   ],
   "source": [
    "from sklearn.feature_extraction.text import TfidfVectorizer\n",
    "\n",
    "vectorizer = TfidfVectorizer(max_features=5000)\n",
    "X = vectorizer.fit_transform(df['processed_text'])\n",
    "\n",
    "X.shape"
   ]
  },
  {
   "cell_type": "code",
   "execution_count": 16,
   "id": "13ddb116-9382-4ff7-976a-a507f01c6d48",
   "metadata": {},
   "outputs": [
    {
     "name": "stdout",
     "output_type": "stream",
     "text": [
      "Training set: (454763, 5000)\n",
      "Test set    : (113691, 5000)\n"
     ]
    }
   ],
   "source": [
    "from sklearn.model_selection import train_test_split\n",
    "\n",
    "y = df['original_sentiment']\n",
    "\n",
    "X_train, X_test, y_train, y_test = train_test_split(X, y, test_size=0.2, random_state=42)\n",
    "\n",
    "print(\"Training set:\", X_train.shape)\n",
    "print(\"Test set    :\", X_test.shape)"
   ]
  },
  {
   "cell_type": "markdown",
   "id": "103f3022-de6e-4200-aed9-518e634cd83c",
   "metadata": {},
   "source": [
    "### Model Evaluation"
   ]
  },
  {
   "cell_type": "code",
   "execution_count": 17,
   "id": "edb686f3-e439-490a-83b0-ef4b26e9080b",
   "metadata": {},
   "outputs": [
    {
     "name": "stdout",
     "output_type": "stream",
     "text": [
      "Naive Bayes Results:\n",
      "\n",
      "              precision    recall  f1-score   support\n",
      "\n",
      "    negative       0.85      0.25      0.38     16181\n",
      "     neutral       0.53      0.00      0.00      8485\n",
      "    positive       0.81      1.00      0.90     89025\n",
      "\n",
      "    accuracy                           0.81    113691\n",
      "   macro avg       0.73      0.41      0.43    113691\n",
      "weighted avg       0.80      0.81      0.76    113691\n",
      "\n"
     ]
    }
   ],
   "source": [
    "from sklearn.naive_bayes import MultinomialNB\n",
    "from sklearn.metrics import classification_report\n",
    "\n",
    "nb = MultinomialNB()\n",
    "nb.fit(X_train, y_train)\n",
    "\n",
    "print(\"Naive Bayes Results:\\n\")\n",
    "print(classification_report(y_test, nb.predict(X_test)))"
   ]
  },
  {
   "cell_type": "code",
   "execution_count": 18,
   "id": "ac59a8bc-3bfc-4ecc-807a-1f3de67eebe3",
   "metadata": {},
   "outputs": [
    {
     "name": "stderr",
     "output_type": "stream",
     "text": [
      "C:\\Users\\maiza\\anaconda3\\Lib\\site-packages\\sklearn\\svm\\_classes.py:31: FutureWarning: The default value of `dual` will change from `True` to `'auto'` in 1.5. Set the value of `dual` explicitly to suppress the warning.\n",
      "  warnings.warn(\n"
     ]
    },
    {
     "name": "stdout",
     "output_type": "stream",
     "text": [
      "SVM Results:\n",
      "\n",
      "              precision    recall  f1-score   support\n",
      "\n",
      "    negative       0.72      0.66      0.69     16181\n",
      "     neutral       0.58      0.10      0.17      8485\n",
      "    positive       0.89      0.97      0.93     89025\n",
      "\n",
      "    accuracy                           0.86    113691\n",
      "   macro avg       0.73      0.58      0.60    113691\n",
      "weighted avg       0.84      0.86      0.84    113691\n",
      "\n"
     ]
    }
   ],
   "source": [
    "from sklearn.svm import LinearSVC\n",
    "\n",
    "svm = LinearSVC()\n",
    "svm.fit(X_train, y_train)\n",
    "\n",
    "print(\"SVM Results:\\n\")\n",
    "print(classification_report(y_test, svm.predict(X_test)))"
   ]
  },
  {
   "cell_type": "code",
   "execution_count": 19,
   "id": "23e7daf3-988f-4c5e-96e7-6f67832ae732",
   "metadata": {},
   "outputs": [],
   "source": [
    "df.to_csv(\"reviews_sentiment_output.csv\", index=False)"
   ]
  },
  {
   "cell_type": "markdown",
   "id": "4131c9e7-5919-44b7-817f-9f4520ae047d",
   "metadata": {},
   "source": [
    "### Model Evaluation Summary\n",
    "Two Models (Naive Bayes and SVM (LinearSVC)) were evaluated \n",
    "1) Naive Bayes\n",
    "   - Accuracy = 81%\n",
    "   - High recall for positive class (1.00), but very low for natural (o.00).\n",
    "   - poor performance on minority classes, especially neutral, leading to class imbalance issues.\n",
    "2) SVM (LinearSVC)\n",
    "   - Accuracy - 86%\n",
    "   - Strong performance on positive (Recall = 0.97) and negative (Recall = 0.66)\n",
    "   - Moderate improvement on neutral (Recall = 0.10), but still underperform due to data imbalance\n",
    "  \n",
    "Conclusion: SVM outperformed Naive Bayes overall, especially in handling negative and positive sentiments. Both models struggle with the neutral class, likely due to class imbalance and the subtle nature of neutral sentiment."
   ]
  },
  {
   "cell_type": "markdown",
   "id": "6ae41c1b-d62d-48b5-8290-bdcba8ad7034",
   "metadata": {},
   "source": [
    "### Discussion\n",
    "1) Naive Bayes\n",
    "- Strengths: Fast and simple; good on the positive class.\n",
    "\n",
    "- Weaknesses: Very poor on the neutral class; struggles with imbalanced data.\n",
    "\n",
    "2) SVM\n",
    "- Strengths: Highest accuracy (86%); strong on positive and negative sentiments.\n",
    "\n",
    "- Weaknesses: Still weak on neutral class; more computationally expensive.\n",
    "\n",
    "##### Conclusion: \n",
    "SVM outperforms Naive Bayes overall but both models need improvement on neutral sentiment detection."
   ]
  },
  {
   "cell_type": "code",
   "execution_count": null,
   "id": "0227b589-c9b6-437e-9c8c-2c296b8daac6",
   "metadata": {},
   "outputs": [],
   "source": []
  }
 ],
 "metadata": {
  "kernelspec": {
   "display_name": "Python 3 (ipykernel)",
   "language": "python",
   "name": "python3"
  },
  "language_info": {
   "codemirror_mode": {
    "name": "ipython",
    "version": 3
   },
   "file_extension": ".py",
   "mimetype": "text/x-python",
   "name": "python",
   "nbconvert_exporter": "python",
   "pygments_lexer": "ipython3",
   "version": "3.12.4"
  }
 },
 "nbformat": 4,
 "nbformat_minor": 5
}
