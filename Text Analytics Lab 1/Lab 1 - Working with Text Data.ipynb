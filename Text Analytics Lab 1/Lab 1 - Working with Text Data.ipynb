{
 "cells": [
  {
   "cell_type": "markdown",
   "id": "e507b8ea-4aa1-4f4a-98a9-45ca3a0112c2",
   "metadata": {},
   "source": [
    "## Lab 1 - Working with Text Data"
   ]
  },
  {
   "cell_type": "markdown",
   "id": "374a849f-dc06-4f49-9a74-f8a8fb8c1976",
   "metadata": {},
   "source": [
    "#### Name: Maizatul Aufa binti Zamidi\n",
    "#### Student ID: SW01082394"
   ]
  },
  {
   "cell_type": "markdown",
   "id": "0f428436-8797-4359-bd15-7314dfa2f7b4",
   "metadata": {},
   "source": [
    "#### 1. Raw Text Files (.txt)"
   ]
  },
  {
   "cell_type": "code",
   "execution_count": 10,
   "id": "40aec80e-9911-4ce2-ab04-d249f3967b2a",
   "metadata": {},
   "outputs": [
    {
     "name": "stdout",
     "output_type": "stream",
     "text": [
      "Raw Text:\n",
      " Hello, this is a sample text file.\n",
      "This is the second line.\n"
     ]
    }
   ],
   "source": [
    "# Read the content of the text file \n",
    "with open('sample.txt', 'r', encoding='utf-8') as file: \n",
    "    text_data = file.read() \n",
    "print(\"Raw Text:\\n\", text_data)\n",
    "\n",
    "# Store in another file \n",
    "with open('stored_text.txt', 'w', encoding='utf-8') as file: \n",
    "    file.write(text_data) "
   ]
  },
  {
   "cell_type": "markdown",
   "id": "f5e98245-1850-407b-8557-177fc467d64f",
   "metadata": {},
   "source": [
    "#### 2. CSV file"
   ]
  },
  {
   "cell_type": "code",
   "execution_count": 12,
   "id": "21a48328-8357-448b-92a6-dd3688cc4235",
   "metadata": {},
   "outputs": [
    {
     "name": "stdout",
     "output_type": "stream",
     "text": [
      "Reviews:\n",
      " 0    The product is amazing!\n",
      "1     Worst experience ever!\n",
      "Name: Review, dtype: object\n"
     ]
    }
   ],
   "source": [
    "import pandas as pd \n",
    "# Read the CSV file \n",
    "df = pd.read_csv('reviews.csv') \n",
    "print(\"Reviews:\\n\", df['Review'].head()) \n",
    "# Save the reviews column to a text file \n",
    "df['Review'].to_csv('stored_reviews.txt', index=False, header=False)"
   ]
  },
  {
   "cell_type": "markdown",
   "id": "f665ba97-94d9-4663-aadd-ce725a4f1e10",
   "metadata": {},
   "source": [
    "#### 3. Excel Files"
   ]
  },
  {
   "cell_type": "code",
   "execution_count": 14,
   "id": "cd65b7a9-8beb-4167-9da6-00f95792f49e",
   "metadata": {},
   "outputs": [
    {
     "name": "stdout",
     "output_type": "stream",
     "text": [
      "First two rows:\n",
      "    ID                   Review\n",
      "0   1  The product is amazing!\n",
      "1   2   Worst experience ever!\n"
     ]
    }
   ],
   "source": [
    "# Read the Excel file \n",
    "df_excel = pd.read_excel('reviews.xlsx', engine='openpyxl') \n",
    "print(\"First two rows:\\n\", df_excel.head(2)) \n",
    "# Save the first two rows to a text file \n",
    "df_excel.head(2).to_csv('extracted_excel.txt', index=False)"
   ]
  },
  {
   "cell_type": "markdown",
   "id": "33d50e06-1fb9-4c42-93a9-f171ed026892",
   "metadata": {},
   "source": [
    "#### 4. JSON Files"
   ]
  },
  {
   "cell_type": "code",
   "execution_count": 16,
   "id": "1c2678c9-f312-4f48-8524-83ec136ae563",
   "metadata": {},
   "outputs": [
    {
     "name": "stdout",
     "output_type": "stream",
     "text": [
      "Extracted City: New York\n"
     ]
    }
   ],
   "source": [
    "import json \n",
    " \n",
    "# Read the JSON file \n",
    "with open('social_data.json', 'r', encoding='utf-8') as file: \n",
    "    data = json.load(file) \n",
    "print(\"Extracted City:\", data['city']) \n",
    " \n",
    "# Store the extracted city to a file \n",
    "with open('stored_city.txt', 'w', encoding='utf-8') as file: \n",
    "    file.write(data['city'])"
   ]
  },
  {
   "cell_type": "markdown",
   "id": "3da33c72-2082-40bd-b3b6-2025c9d3c3ba",
   "metadata": {},
   "source": [
    "#### 5. XML Files"
   ]
  },
  {
   "cell_type": "code",
   "execution_count": 23,
   "id": "9833018d-9ce5-4e46-b03e-7d4eaf98bf39",
   "metadata": {},
   "outputs": [
    {
     "name": "stdout",
     "output_type": "stream",
     "text": [
      "Extracted Title: AI is transforming industries\n"
     ]
    }
   ],
   "source": [
    "import xml.etree.ElementTree as ET \n",
    " \n",
    "# Parse the XML file \n",
    "tree = ET.parse('news.xml') \n",
    "root = tree.getroot() \n",
    " \n",
    "for article in root.findall('article'): \n",
    "    title = article.find('title').text \n",
    "    print(\"Extracted Title:\", title) \n",
    " \n",
    "# Store the extracted title to a file \n",
    "with open('stored_titles.txt', 'w', encoding='utf-8') as file: \n",
    "    for article in root.findall('article'): \n",
    "        title = article.find('title').text \n",
    "        file.write(title + '\\n')"
   ]
  },
  {
   "cell_type": "markdown",
   "id": "80888421-35bf-45d9-b7a1-b9daa8da2b10",
   "metadata": {},
   "source": [
    "#### 6. Working with PDF "
   ]
  },
  {
   "cell_type": "code",
   "execution_count": 26,
   "id": "cd859d38-89cd-4966-8a47-f0375db91d55",
   "metadata": {},
   "outputs": [
    {
     "name": "stdout",
     "output_type": "stream",
     "text": [
      "Requirement already satisfied: PyPDF2 in c:\\users\\maiza\\anaconda3\\lib\\site-packages (3.0.1)Note: you may need to restart the kernel to use updated packages.\n",
      "\n"
     ]
    }
   ],
   "source": [
    "pip install PyPDF2"
   ]
  },
  {
   "cell_type": "code",
   "execution_count": 30,
   "id": "d9cf214a-ee46-42b2-8aa2-2b74ef1eb3da",
   "metadata": {},
   "outputs": [
    {
     "name": "stdout",
     "output_type": "stream",
     "text": [
      "Extracted PDF Text:\n",
      " This is a sample PDF document.  \n",
      "AI is transforming industries and automation.  \n"
     ]
    }
   ],
   "source": [
    "import PyPDF2 \n",
    "# Read the PDF file \n",
    "with open('document.pdf', 'rb') as file: \n",
    "    reader = PyPDF2.PdfReader(file) \n",
    "    text = \"\\n\".join(page.extract_text() for page in reader.pages if page.extract_text()) \n",
    "\n",
    "# Print the extracted text \n",
    "print(\"Extracted PDF Text:\\n\", text) \n",
    "\n",
    "# Store the extracted text in a file \n",
    "with open('stored_pdf_text.txt', 'w', encoding='utf-8') as output: \n",
    "    output.write(text)"
   ]
  },
  {
   "cell_type": "markdown",
   "id": "a11b5d82-4bd3-455c-a537-fdb579ceabe3",
   "metadata": {},
   "source": [
    "#### Exercise 1"
   ]
  },
  {
   "cell_type": "code",
   "execution_count": 34,
   "id": "4d9bc671-56cc-4947-a039-d611129324ba",
   "metadata": {},
   "outputs": [
    {
     "name": "stdout",
     "output_type": "stream",
     "text": [
      "Extracted PDF Text: \n",
      " Business Proposal  \n",
      "The Revolution is Coming  \n",
      "Leverage agile frameworks to provide a robust synopsis for high level  \n",
      "overviews. Iterative approaches to corporate strategy foster collaborative  \n",
      "thinking to further the overall value proposition. Organically grow the  \n",
      "holistic world view of disruptive innovation via workplace diversity and  \n",
      "empowerment.  \n",
      "Bring to the table win -win survival strategies to ensure proactive  \n",
      "domination. At the end of the day, going forward, a new normal that has  \n",
      "evolved from generation X is on the runway heading towards a streamlined  \n",
      "cloud solution. User generated content in real -time will have multi ple \n",
      "touchpoints for offshoring.  \n",
      "Capitalize on low hanging fruit to identify a ballpark value added activity to  \n",
      "beta test. Override the digital divide with additional clickthroughs from  \n",
      "DevOps. Nanotechnology immersion along the information highway will  \n",
      "close the loop on focusing solely on the bottom line.  \n",
      "Podcasting operational change management inside of workflows to  \n",
      "establish a framework. Taking seamless key performance indicators offline  \n",
      "to maximise the long tail. Keeping your eye on the ball while perfo rming a  \n",
      "deep dive on the start -up mentality to derive convergence on crossplatform  \n",
      "integration.  \n",
      "Collaboratively administrate empowered markets via plug -and-play \n",
      "networks. Dynamically procrastinate B2C users after installed base  \n",
      "benefits. Dramatically visua lize customer directed convergence without  \n",
      "revolutionary ROI.  \n",
      "Efficiently unleash cross -media information without cross -media value.  \n",
      "Quickly maximize timely deliverables for real -time schemas. Dramatically  \n",
      "maintain clicks -and-mortar solutions without funct ional solutio ns. \n",
      "  \n",
      "AUTHORS:  \n",
      "Amy Baker, Finance Chair, x345, abaker@ourcompany.com  \n",
      "Chris Donaldson, Accounting Dir., x621, cdonaldson@ourcompany.com  \n",
      "Erin Freeman, Sr. VP, x879, efreeman@ourcompany.com  \n"
     ]
    }
   ],
   "source": [
    "import PyPDF2\n",
    "\n",
    "# Read rhe Business_Proposal PDF\n",
    "with open('Business_Proposal.pdf', 'rb') as file:\n",
    "          reader = PyPDF2.PdfReader(file)\n",
    "          text = \"\\n\".join(page.extract_text() for page in reader.pages if page.extract_text())\n",
    "# Print the extracted text\n",
    "print(\"Extracted PDF Text: \\n\", text)\n",
    "\n",
    "#Store the extracted text in file\n",
    "with open('business_proposal_all.txt', 'w', encoding='utf-8') as output:\n",
    "    output.write(text)"
   ]
  },
  {
   "cell_type": "markdown",
   "id": "1086d233-d614-4644-83e9-976ba3bd07ba",
   "metadata": {},
   "source": [
    "#### Exercise 2"
   ]
  },
  {
   "cell_type": "code",
   "execution_count": 38,
   "id": "88a9653f-4ea6-4963-b7c6-f51e40a60107",
   "metadata": {},
   "outputs": [
    {
     "name": "stdout",
     "output_type": "stream",
     "text": [
      "Extracted PDF Text: \n",
      " AUTHORS:  \n",
      "Amy Baker, Finance Chair, x345, abaker@ourcompany.com  \n",
      "Chris Donaldson, Accounting Dir., x621, cdonaldson@ourcompany.com  \n",
      "Erin Freeman, Sr. VP, x879, efreeman@ourcompany.com  \n"
     ]
    }
   ],
   "source": [
    "import PyPDF2\n",
    "\n",
    "# Read rhe Business_Proposal PDF\n",
    "with open('Business_Proposal.pdf', 'rb') as file:\n",
    "          reader = PyPDF2.PdfReader(file)\n",
    "          if len(reader.pages) > 1:\n",
    "              text = reader.pages[1].extract_text()\n",
    "# Print the extracted text\n",
    "print(\"Extracted PDF Text: \\n\", text)\n",
    "\n",
    "#Store the extracted text in file\n",
    "with open('business_proposal_page_2.txt', 'w', encoding='utf-8') as output:\n",
    "    output.write(text)"
   ]
  },
  {
   "cell_type": "code",
   "execution_count": null,
   "id": "95bb4415-cbed-4f01-89d5-ffb529ed2885",
   "metadata": {},
   "outputs": [],
   "source": []
  }
 ],
 "metadata": {
  "kernelspec": {
   "display_name": "Python 3 (ipykernel)",
   "language": "python",
   "name": "python3"
  },
  "language_info": {
   "codemirror_mode": {
    "name": "ipython",
    "version": 3
   },
   "file_extension": ".py",
   "mimetype": "text/x-python",
   "name": "python",
   "nbconvert_exporter": "python",
   "pygments_lexer": "ipython3",
   "version": "3.12.4"
  }
 },
 "nbformat": 4,
 "nbformat_minor": 5
}
