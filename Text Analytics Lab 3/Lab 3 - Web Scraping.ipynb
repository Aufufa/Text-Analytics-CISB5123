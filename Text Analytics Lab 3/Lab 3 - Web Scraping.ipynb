{
 "cells": [
  {
   "cell_type": "markdown",
   "id": "8283eefb-982f-47ce-96d2-e8e6270b0412",
   "metadata": {},
   "source": [
    "## <center> CISB5123 Text Analytics </center>\n",
    "## <center> Lab 3 - Web Scraping  </center>"
   ]
  },
  {
   "cell_type": "markdown",
   "id": "5a464718-215b-4afe-a5fb-4900b7a96a6e",
   "metadata": {},
   "source": [
    "#### Name: Maizatul Aufa binti Zamidi\n",
    "#### Student Id: SW01082394"
   ]
  },
  {
   "cell_type": "code",
   "execution_count": 7,
   "id": "55cb6a32-cbaf-4ad6-b2a0-87fcec3941a0",
   "metadata": {},
   "outputs": [],
   "source": [
    "import requests"
   ]
  },
  {
   "cell_type": "code",
   "execution_count": 9,
   "id": "bd2d266f-9664-495e-a1c9-e48c673699a5",
   "metadata": {},
   "outputs": [],
   "source": [
    "page = requests.get(\"https://dataquestio.github.io/web-scraping-pages/simple.html\")"
   ]
  },
  {
   "cell_type": "code",
   "execution_count": 11,
   "id": "17bea843-5856-4747-991e-b8e2efc499ce",
   "metadata": {},
   "outputs": [
    {
     "data": {
      "text/plain": [
       "<Response [200]>"
      ]
     },
     "execution_count": 11,
     "metadata": {},
     "output_type": "execute_result"
    }
   ],
   "source": [
    "page"
   ]
  },
  {
   "cell_type": "code",
   "execution_count": 13,
   "id": "dfbb6c14-f1cb-4abb-b6ed-02556c6e5461",
   "metadata": {},
   "outputs": [],
   "source": [
    "from bs4 import BeautifulSoup\n",
    "soup = BeautifulSoup(page.content, 'html.parser')"
   ]
  },
  {
   "cell_type": "code",
   "execution_count": 17,
   "id": "941f9273-0cab-427f-ab30-63e9bcd09dbb",
   "metadata": {},
   "outputs": [
    {
     "data": {
      "text/plain": [
       "['html',\n",
       " '\\n',\n",
       " <html>\n",
       " <head>\n",
       " <title>A simple example page</title>\n",
       " </head>\n",
       " <body>\n",
       " <p>Here is some simple content for this page.</p>\n",
       " </body>\n",
       " </html>]"
      ]
     },
     "execution_count": 17,
     "metadata": {},
     "output_type": "execute_result"
    }
   ],
   "source": [
    "list(soup.children)"
   ]
  },
  {
   "cell_type": "code",
   "execution_count": 19,
   "id": "8e7d76a2-171d-46fa-9ecf-5f1e27f6306f",
   "metadata": {},
   "outputs": [],
   "source": [
    "html = list(soup.children)[2]"
   ]
  },
  {
   "cell_type": "code",
   "execution_count": 21,
   "id": "731a97d7-2249-4c87-98eb-8386cee1779b",
   "metadata": {},
   "outputs": [
    {
     "data": {
      "text/plain": [
       "<html>\n",
       "<head>\n",
       "<title>A simple example page</title>\n",
       "</head>\n",
       "<body>\n",
       "<p>Here is some simple content for this page.</p>\n",
       "</body>\n",
       "</html>"
      ]
     },
     "execution_count": 21,
     "metadata": {},
     "output_type": "execute_result"
    }
   ],
   "source": [
    "html"
   ]
  },
  {
   "cell_type": "code",
   "execution_count": 23,
   "id": "3a38c461-f940-48c0-b377-9bdb12dc7d63",
   "metadata": {},
   "outputs": [],
   "source": [
    "content = soup.find('p').get_text()"
   ]
  },
  {
   "cell_type": "code",
   "execution_count": 25,
   "id": "121192d9-6f72-443f-8512-ac62a8a689d0",
   "metadata": {},
   "outputs": [
    {
     "name": "stdout",
     "output_type": "stream",
     "text": [
      "Extracted Content: Here is some simple content for this page.\n"
     ]
    }
   ],
   "source": [
    "print(\"Extracted Content:\", content)"
   ]
  },
  {
   "cell_type": "code",
   "execution_count": null,
   "id": "82fd458d-c550-42a9-ad22-7233d8d3765a",
   "metadata": {},
   "outputs": [],
   "source": []
  }
 ],
 "metadata": {
  "kernelspec": {
   "display_name": "Python 3 (ipykernel)",
   "language": "python",
   "name": "python3"
  },
  "language_info": {
   "codemirror_mode": {
    "name": "ipython",
    "version": 3
   },
   "file_extension": ".py",
   "mimetype": "text/x-python",
   "name": "python",
   "nbconvert_exporter": "python",
   "pygments_lexer": "ipython3",
   "version": "3.12.4"
  }
 },
 "nbformat": 4,
 "nbformat_minor": 5
}
