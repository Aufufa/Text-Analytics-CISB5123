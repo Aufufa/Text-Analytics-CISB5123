{
 "cells": [
  {
   "cell_type": "markdown",
   "id": "0129bd77-6325-4d1a-872a-6eae33850ec1",
   "metadata": {},
   "source": [
    "## Exercise Lab 2 - Text Extraction"
   ]
  },
  {
   "cell_type": "markdown",
   "id": "20cfe076-e71f-4148-9696-90181b2212a5",
   "metadata": {},
   "source": [
    "### Name : Maizatul Aufa binti Zamidi\n",
    "### Student id: SW01082394"
   ]
  },
  {
   "cell_type": "code",
   "execution_count": 9,
   "id": "9e8156c1-56cb-404b-a0cc-8acca550de7a",
   "metadata": {},
   "outputs": [],
   "source": [
    "import re"
   ]
  },
  {
   "cell_type": "markdown",
   "id": "830bb66f-f899-4f60-9b2b-d699403fb463",
   "metadata": {},
   "source": [
    "##### Exercise 1 - Write a Python program that extract all digits from following text"
   ]
  },
  {
   "cell_type": "code",
   "execution_count": 11,
   "id": "85ee2211-df88-4d66-b9a1-d3f987f17973",
   "metadata": {},
   "outputs": [
    {
     "name": "stdout",
     "output_type": "stream",
     "text": [
      "Digits Found: ['2', '4', '5', '6', '7', '8', '9', '3', '4', '1', '2', '3', '0']\n"
     ]
    }
   ],
   "source": [
    "\n",
    "text = \"Order number:24567, Tracking ID:8934A12, Quantity:30\"\n",
    "pattern = r\"[0-9]\"\n",
    "\n",
    "matches = re.findall(pattern, text)\n",
    "\n",
    "print(\"Digits Found:\", matches)"
   ]
  },
  {
   "cell_type": "markdown",
   "id": "e94be3ae-bc84-41e3-9d4f-a4b25c352834",
   "metadata": {},
   "source": [
    "##### Exercise 2 - Extrall all non-alphanumeric characters(spaces, punctuatuion, etc) from the text."
   ]
  },
  {
   "cell_type": "code",
   "execution_count": 16,
   "id": "10895b81-2fdd-4d61-8fe3-9f1360f0f7b4",
   "metadata": {},
   "outputs": [
    {
     "name": "stdout",
     "output_type": "stream",
     "text": [
      "Non-alphanumeric characters: ['!', \"'\", ' ', ' ', ' ', '?', ' ', ' ', '@', ' ', '.']\n"
     ]
    }
   ],
   "source": [
    "text=\"Welcome!How's your day going?Call me @ 3pm.\"\n",
    "pattern = r\"\\W\"\n",
    "\n",
    "matches = re.findall(pattern, text)\n",
    "print(\"Non-alphanumeric characters:\", matches)"
   ]
  },
  {
   "cell_type": "markdown",
   "id": "1f0c67a4-e640-4b7d-8ae9-180070d6c964",
   "metadata": {},
   "source": [
    "##### Exercise 3 - Split the text at commas and periods"
   ]
  },
  {
   "cell_type": "code",
   "execution_count": 20,
   "id": "190b3641-c611-43c6-999b-739931c76f6d",
   "metadata": {},
   "outputs": [
    {
     "name": "stdout",
     "output_type": "stream",
     "text": [
      "Split text: ['Data Science', ' AI', ' and Machine Learning', ' These fields are growing fast', '']\n"
     ]
    }
   ],
   "source": [
    "text=\"Data Science, AI, and Machine Learning. These fields are growing fast.\"\n",
    "pattern = r'[,.]'\n",
    "\n",
    "split_text = re.split(pattern, text)\n",
    "print(\"Split text:\", split_text)\n"
   ]
  },
  {
   "cell_type": "markdown",
   "id": "5d1c5108-7bd5-4e3b-9a68-3ab2bbf4fbe1",
   "metadata": {},
   "source": [
    "##### Exercise 4 - Replace email addresses with [HIDDEN]."
   ]
  },
  {
   "cell_type": "code",
   "execution_count": 35,
   "id": "a9e56ffe-c1da-4c21-ad17-4eee053234e5",
   "metadata": {},
   "outputs": [
    {
     "name": "stdout",
     "output_type": "stream",
     "text": [
      "Anonymized Text: Contact us at [HIDDEN] or [HIDDEN]\n"
     ]
    }
   ],
   "source": [
    "text = \"Contact us at support@example.com or info@company.org\"\n",
    "pattern = r'\\w+@\\w+.\\w+'\n",
    "\n",
    "new_text = re.sub(pattern, \"[HIDDEN]\", text)\n",
    "print(\"Anonymized Text:\", new_text)"
   ]
  },
  {
   "cell_type": "markdown",
   "id": "707d89aa-701a-4b39-8cbe-7552bf88bfca",
   "metadata": {},
   "source": [
    "##### Exercise 5 - Extract only the domain types (e.g, com, org, edu) from email addresses."
   ]
  },
  {
   "cell_type": "code",
   "execution_count": 40,
   "id": "a5c30862-32ed-4d5a-9ad3-46205c787152",
   "metadata": {},
   "outputs": [
    {
     "name": "stdout",
     "output_type": "stream",
     "text": [
      "Domain types: ['com', 'edu', 'org']\n"
     ]
    }
   ],
   "source": [
    "text = \"Email:user@gmail.com, admin@universiry.edu, info@company.org\"\n",
    "pattern= r'@\\w+.(\\w+.\\w+)'\n",
    "\n",
    "matches = re.findall(pattern,text)\n",
    "print(\"Domain types:\", matches)"
   ]
  },
  {
   "cell_type": "code",
   "execution_count": null,
   "id": "3aed13d5-b961-4a0a-98f6-d481b08b363c",
   "metadata": {},
   "outputs": [],
   "source": []
  }
 ],
 "metadata": {
  "kernelspec": {
   "display_name": "Python 3 (ipykernel)",
   "language": "python",
   "name": "python3"
  },
  "language_info": {
   "codemirror_mode": {
    "name": "ipython",
    "version": 3
   },
   "file_extension": ".py",
   "mimetype": "text/x-python",
   "name": "python",
   "nbconvert_exporter": "python",
   "pygments_lexer": "ipython3",
   "version": "3.12.4"
  }
 },
 "nbformat": 4,
 "nbformat_minor": 5
}
