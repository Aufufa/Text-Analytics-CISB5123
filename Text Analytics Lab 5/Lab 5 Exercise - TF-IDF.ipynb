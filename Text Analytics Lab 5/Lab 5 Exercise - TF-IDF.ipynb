{
 "cells": [
  {
   "cell_type": "markdown",
   "id": "478a72ad-3825-42b7-9cea-1d325fca4462",
   "metadata": {},
   "source": [
    "### <center><b> CISB123 Text Analytics </b><center>"
   ]
  },
  {
   "cell_type": "markdown",
   "id": "8bd9dbca-f74a-467d-8528-00d8a06e9edc",
   "metadata": {},
   "source": [
    "### <center><b> Lab 5 - Bag of Words and Term Frequency - Inverse Document Frequency (TF-IDF) </b><center>"
   ]
  },
  {
   "cell_type": "markdown",
   "id": "60c64083-b7ef-4eae-bc32-7311a6c85cb0",
   "metadata": {},
   "source": [
    "### Name: Maizatul Aufa binti Zamidi (SW01082394)"
   ]
  },
  {
   "cell_type": "markdown",
   "id": "477f105e-3a4e-4240-9f1d-d389de58086a",
   "metadata": {},
   "source": [
    "<b> 2) TF-IDF Implementation </b>"
   ]
  },
  {
   "cell_type": "code",
   "execution_count": 2,
   "id": "76e70c1e-7369-4bb9-bd69-4fba6eda64eb",
   "metadata": {},
   "outputs": [],
   "source": [
    "import pandas as pd \n",
    "import math # use for log function \n",
    "from collections import Counter"
   ]
  },
  {
   "cell_type": "code",
   "execution_count": 4,
   "id": "2bd07589-95ce-4bbc-9f1e-50e0002fbddf",
   "metadata": {},
   "outputs": [],
   "source": [
    "file_path = \"Processed_Reviews.csv\" \n",
    "df = pd.read_csv(file_path)"
   ]
  },
  {
   "cell_type": "code",
   "execution_count": 6,
   "id": "a0b29986-8eae-4739-81e5-263dfafb9b69",
   "metadata": {},
   "outputs": [],
   "source": [
    "#Extract the tokenized text data\n",
    "tokenized_reviews = df['tokenized'].dropna().apply(eval)"
   ]
  },
  {
   "cell_type": "code",
   "execution_count": 10,
   "id": "b49b2d5f-2e38-4d04-b763-d7a511e59d1f",
   "metadata": {},
   "outputs": [],
   "source": [
    "#Function to compute Term Frequency (TF) \n",
    "def compute_tf(document): \n",
    "    word_count = Counter(document) \n",
    "    tf = {word: count / len(document) for word, count in word_count.items()} \n",
    "    return tf "
   ]
  },
  {
   "cell_type": "code",
   "execution_count": 12,
   "id": "4e295542-269c-48f5-9b55-1460420e58eb",
   "metadata": {},
   "outputs": [],
   "source": [
    "#Function to compute Inverse Document Frequency (IDF) \n",
    "def compute_idf(documents): \n",
    "    N = len(documents)  # Total number of documents \n",
    "    idf = {} \n",
    "    all_words = set(word for doc in documents for word in doc)  # Unique words \n",
    "    for word in all_words: \n",
    "        count = sum(1 for doc in documents if word in doc) \n",
    "        idf[word] = math.log(N / count) \n",
    "        return idf"
   ]
  },
  {
   "cell_type": "code",
   "execution_count": 37,
   "id": "361eca03-38f6-495d-a93b-616a1feba539",
   "metadata": {},
   "outputs": [],
   "source": [
    "#Function to compute TF-IDF\n",
    "def compute_tfidf(document, idf):\n",
    "    tf = compute_tf(document)\n",
    "    tfidf = {}\n",
    "    for word, tf_value in tf.items():\n",
    "        if word in idf:\n",
    "            tfidf[word] = tf_value * idf[word]\n",
    "    return tfidf"
   ]
  },
  {
   "cell_type": "code",
   "execution_count": 28,
   "id": "42ed7d81-857a-42a1-b9a9-89fc563a75f0",
   "metadata": {},
   "outputs": [],
   "source": [
    "#Convert tokenized reviews into a List\n",
    "documents = tokenized_reviews.tolist() "
   ]
  },
  {
   "cell_type": "code",
   "execution_count": 30,
   "id": "1f12726f-4d31-4a10-bcc4-52ad4e042e20",
   "metadata": {},
   "outputs": [],
   "source": [
    "#Compute TF scores, convert to DataFrame and save to a CSV file\n",
    "tf_data = [compute_tf(doc) for doc in documents] \n",
    "tf_df = pd.DataFrame(tf_data).fillna(0) \n",
    "tf_df.to_csv(\"tf_scores.csv\", index=False)"
   ]
  },
  {
   "cell_type": "code",
   "execution_count": 32,
   "id": "f99a3f1a-b3ce-4eed-9776-bc6af548fef7",
   "metadata": {},
   "outputs": [],
   "source": [
    "#Compute IDF scores, convert to DataFrame and save to a CSV file\n",
    "idf = compute_idf(documents) \n",
    "idf_df = pd.DataFrame([idf]).fillna(0) \n",
    "idf_df.to_csv(\"idf_scores.csv\", index=False)"
   ]
  },
  {
   "cell_type": "code",
   "execution_count": 39,
   "id": "84ad7830-dcf0-47c4-b724-1e346ffabdbe",
   "metadata": {},
   "outputs": [],
   "source": [
    "# Compute TF-IDF scores, convert to DataFrame and save to a CSV file\n",
    "tfidf_data = [compute_tfidf(doc, idf) for doc in documents] \n",
    "tfidf_df = pd.DataFrame(tfidf_data).fillna(0) \n",
    "tfidf_df.to_csv(\"tfidf_scores.csv\", index=False)"
   ]
  },
  {
   "cell_type": "code",
   "execution_count": null,
   "id": "d7dc6943-661b-4e74-97f1-6b020d301260",
   "metadata": {},
   "outputs": [],
   "source": []
  }
 ],
 "metadata": {
  "kernelspec": {
   "display_name": "Python 3 (ipykernel)",
   "language": "python",
   "name": "python3"
  },
  "language_info": {
   "codemirror_mode": {
    "name": "ipython",
    "version": 3
   },
   "file_extension": ".py",
   "mimetype": "text/x-python",
   "name": "python",
   "nbconvert_exporter": "python",
   "pygments_lexer": "ipython3",
   "version": "3.12.4"
  }
 },
 "nbformat": 4,
 "nbformat_minor": 5
}
