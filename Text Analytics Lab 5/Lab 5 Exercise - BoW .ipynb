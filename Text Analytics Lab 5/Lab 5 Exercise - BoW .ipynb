{
 "cells": [
  {
   "cell_type": "markdown",
   "id": "478a72ad-3825-42b7-9cea-1d325fca4462",
   "metadata": {},
   "source": [
    "### <center><b> CISB123 Text Analytics </b><center>"
   ]
  },
  {
   "cell_type": "markdown",
   "id": "8bd9dbca-f74a-467d-8528-00d8a06e9edc",
   "metadata": {},
   "source": [
    "### <center><b> Lab 5 - Bag of Words and Term Frequency - Inverse Document Frequency (TF-IDF) </b><center>"
   ]
  },
  {
   "cell_type": "markdown",
   "id": "60c64083-b7ef-4eae-bc32-7311a6c85cb0",
   "metadata": {},
   "source": [
    "### Name: Maizatul Aufa binti Zamidi (SW01082394)"
   ]
  },
  {
   "cell_type": "markdown",
   "id": "477f105e-3a4e-4240-9f1d-d389de58086a",
   "metadata": {},
   "source": [
    "<b>1) Bag of Words Implementation </b>"
   ]
  },
  {
   "cell_type": "code",
   "execution_count": 13,
   "id": "7f9391d5-cb8a-48b0-8100-bc8ea86b2573",
   "metadata": {},
   "outputs": [],
   "source": [
    "from collections import Counter #count word occurrences \n",
    "import pandas as pd"
   ]
  },
  {
   "cell_type": "code",
   "execution_count": 15,
   "id": "cac8ce24-a652-48b2-8d12-9c619b871d94",
   "metadata": {},
   "outputs": [],
   "source": [
    "file_path = \"Processed_Reviews.csv\" \n",
    "df = pd.read_csv(file_path)"
   ]
  },
  {
   "cell_type": "code",
   "execution_count": 19,
   "id": "5e0d9a6c-2a93-47d6-82a4-d142b08cf288",
   "metadata": {},
   "outputs": [],
   "source": [
    "#Extract the tokenized text data: \n",
    "tokenized_reviews = df['tokenized'].dropna().apply(eval)"
   ]
  },
  {
   "cell_type": "code",
   "execution_count": 21,
   "id": "42acfb07-8d5b-417d-ba8a-75884edb6d73",
   "metadata": {},
   "outputs": [],
   "source": [
    "#List all unique words\n",
    "all_words = [word for review in tokenized_reviews for word in review] \n",
    "unique_words = list(set(all_words))"
   ]
  },
  {
   "cell_type": "code",
   "execution_count": 25,
   "id": "97a7e3fa-172b-4caf-9cd5-28db92c585a2",
   "metadata": {},
   "outputs": [],
   "source": [
    "#Create word frequency table\n",
    "word_freq = Counter(all_words) \n",
    "sorted_word_freq = dict(sorted(word_freq.items(), key=lambda item: item[1], reverse=True)) "
   ]
  },
  {
   "cell_type": "code",
   "execution_count": 31,
   "id": "c4b0f91e-7711-43c0-b6bc-c3cb266f7e3b",
   "metadata": {},
   "outputs": [],
   "source": [
    "#Create document vectors\n",
    "document_vectors = [] \n",
    "for review in tokenized_reviews: \n",
    "    document_vector = [1 if word in review else 0 for word in sorted_word_freq.keys()] \n",
    "    document_vectors.append(document_vector)"
   ]
  },
  {
   "cell_type": "code",
   "execution_count": 33,
   "id": "a683d65d-7afd-4e35-85b4-8b13dd14b024",
   "metadata": {},
   "outputs": [],
   "source": [
    "#Convert document vectors to DataFrame\n",
    "doc_vectors_df = pd.DataFrame(document_vectors, columns=sorted_word_freq.keys())"
   ]
  },
  {
   "cell_type": "code",
   "execution_count": 35,
   "id": "1be80362-f23a-47b0-829a-36f473bf125c",
   "metadata": {},
   "outputs": [
    {
     "name": "stdout",
     "output_type": "stream",
     "text": [
      "Word Frequency Table:\n",
      "           Word  Frequency\n",
      "0       product          7\n",
      "1       quality          3\n",
      "2         great          2\n",
      "3       amazing          2\n",
      "4          love          2\n",
      "5       awesome          2\n",
      "6          work          2\n",
      "7     perfectly          2\n",
      "8          life          2\n",
      "9        expect          2\n",
      "10       arrive          1\n",
      "11         time          1\n",
      "12    packaging          1\n",
      "13        amaze          1\n",
      "14          buy          1\n",
      "15        phone          1\n",
      "16           hz          1\n",
      "17      display          1\n",
      "18      totally          1\n",
      "19        worth          1\n",
      "20          wow          1\n",
      "21          bit          1\n",
      "22    expensive          1\n",
      "23       laptop          1\n",
      "24         fine          1\n",
      "25        check          1\n",
      "26         full          1\n",
      "27       detail          1\n",
      "28     purchase          1\n",
      "29        happy          1\n",
      "30      battery          1\n",
      "31    excellent          1\n",
      "32       charge          1\n",
      "33        cable          1\n",
      "34        short          1\n",
      "35          can          1\n",
      "36          not          1\n",
      "37      believe          1\n",
      "38         good          1\n",
      "39         fast          1\n",
      "40     delivery          1\n",
      "41       honest          1\n",
      "42         much          1\n",
      "43           oh          1\n",
      "44          god          1\n",
      "45         best          1\n",
      "46         ever          1\n",
      "47          use          1\n",
      "48         shoe          1\n",
      "49  comfortable          1\n",
      "50          fit          1\n",
      "51       nicely          1\n",
      "52          jog          1\n"
     ]
    }
   ],
   "source": [
    "doc_vectors_df.to_csv(\"document_vectors.csv\", index=False)\n",
    "word_freq_df = pd.DataFrame(list(sorted_word_freq.items()), columns=[\"Word\", \"Frequency\"]) \n",
    "print(\"Word Frequency Table:\") \n",
    "print(word_freq_df) "
   ]
  },
  {
   "cell_type": "code",
   "execution_count": null,
   "id": "76e70c1e-7369-4bb9-bd69-4fba6eda64eb",
   "metadata": {},
   "outputs": [],
   "source": []
  }
 ],
 "metadata": {
  "kernelspec": {
   "display_name": "Python 3 (ipykernel)",
   "language": "python",
   "name": "python3"
  },
  "language_info": {
   "codemirror_mode": {
    "name": "ipython",
    "version": 3
   },
   "file_extension": ".py",
   "mimetype": "text/x-python",
   "name": "python",
   "nbconvert_exporter": "python",
   "pygments_lexer": "ipython3",
   "version": "3.12.4"
  }
 },
 "nbformat": 4,
 "nbformat_minor": 5
}
