{
 "cells": [
  {
   "cell_type": "markdown",
   "id": "478a72ad-3825-42b7-9cea-1d325fca4462",
   "metadata": {},
   "source": [
    "### <center><b> CISB123 Text Analytics </b><center>"
   ]
  },
  {
   "cell_type": "markdown",
   "id": "8bd9dbca-f74a-467d-8528-00d8a06e9edc",
   "metadata": {},
   "source": [
    "## <center><b> Lab 8 - Text Clustering using TF-IDF Vectorizer </b><center>"
   ]
  },
  {
   "cell_type": "markdown",
   "id": "60c64083-b7ef-4eae-bc32-7311a6c85cb0",
   "metadata": {},
   "source": [
    "### Name: Maizatul Aufa binti Zamidi (SW01082394)"
   ]
  },
  {
   "cell_type": "code",
   "execution_count": 5,
   "id": "4997d473-cb23-491e-a9c0-03cc43a5db8b",
   "metadata": {},
   "outputs": [],
   "source": [
    "import pandas as pd\n",
    "file_path = \"customer_complaints_1.csv\"\n",
    "df = pd.read_csv(file_path)"
   ]
  },
  {
   "cell_type": "code",
   "execution_count": 7,
   "id": "e9b07172-93c0-417b-b7ec-a01f62e381e9",
   "metadata": {},
   "outputs": [
    {
     "data": {
      "text/html": [
       "<div>\n",
       "<style scoped>\n",
       "    .dataframe tbody tr th:only-of-type {\n",
       "        vertical-align: middle;\n",
       "    }\n",
       "\n",
       "    .dataframe tbody tr th {\n",
       "        vertical-align: top;\n",
       "    }\n",
       "\n",
       "    .dataframe thead th {\n",
       "        text-align: right;\n",
       "    }\n",
       "</style>\n",
       "<table border=\"1\" class=\"dataframe\">\n",
       "  <thead>\n",
       "    <tr style=\"text-align: right;\">\n",
       "      <th></th>\n",
       "      <th>author</th>\n",
       "      <th>posted_on</th>\n",
       "      <th>rating</th>\n",
       "      <th>text</th>\n",
       "    </tr>\n",
       "  </thead>\n",
       "  <tbody>\n",
       "    <tr>\n",
       "      <th>0</th>\n",
       "      <td>Alantae of Chesterfeild, MI</td>\n",
       "      <td>Nov. 22, 2016</td>\n",
       "      <td>1</td>\n",
       "      <td>I used to love Comcast. Until all these consta...</td>\n",
       "    </tr>\n",
       "    <tr>\n",
       "      <th>1</th>\n",
       "      <td>Vera of Philadelphia, PA</td>\n",
       "      <td>Nov. 19, 2016</td>\n",
       "      <td>1</td>\n",
       "      <td>I'm so over Comcast! The worst internet provid...</td>\n",
       "    </tr>\n",
       "    <tr>\n",
       "      <th>2</th>\n",
       "      <td>Sarah of Rancho Cordova, CA</td>\n",
       "      <td>Nov. 17, 2016</td>\n",
       "      <td>1</td>\n",
       "      <td>If I could give them a negative star or no sta...</td>\n",
       "    </tr>\n",
       "    <tr>\n",
       "      <th>3</th>\n",
       "      <td>Dennis of Manchester, NH</td>\n",
       "      <td>Nov. 16, 2016</td>\n",
       "      <td>1</td>\n",
       "      <td>I've had the worst experiences so far since in...</td>\n",
       "    </tr>\n",
       "    <tr>\n",
       "      <th>4</th>\n",
       "      <td>Ryan of Bellevue, WA</td>\n",
       "      <td>Nov. 14, 2016</td>\n",
       "      <td>1</td>\n",
       "      <td>Check your contract when you sign up for Comca...</td>\n",
       "    </tr>\n",
       "  </tbody>\n",
       "</table>\n",
       "</div>"
      ],
      "text/plain": [
       "                        author      posted_on  rating  \\\n",
       "0  Alantae of Chesterfeild, MI  Nov. 22, 2016       1   \n",
       "1     Vera of Philadelphia, PA  Nov. 19, 2016       1   \n",
       "2  Sarah of Rancho Cordova, CA  Nov. 17, 2016       1   \n",
       "3     Dennis of Manchester, NH  Nov. 16, 2016       1   \n",
       "4         Ryan of Bellevue, WA  Nov. 14, 2016       1   \n",
       "\n",
       "                                                text  \n",
       "0  I used to love Comcast. Until all these consta...  \n",
       "1  I'm so over Comcast! The worst internet provid...  \n",
       "2  If I could give them a negative star or no sta...  \n",
       "3  I've had the worst experiences so far since in...  \n",
       "4  Check your contract when you sign up for Comca...  "
      ]
     },
     "execution_count": 7,
     "metadata": {},
     "output_type": "execute_result"
    }
   ],
   "source": [
    "df.head()"
   ]
  },
  {
   "cell_type": "code",
   "execution_count": 9,
   "id": "54697311-abb4-45e7-936b-0b772b1a8906",
   "metadata": {},
   "outputs": [],
   "source": [
    "import numpy as np\n",
    "from sklearn.feature_extraction.text import TfidfVectorizer\n",
    "from sklearn.cluster import KMeans\n",
    "import re\n",
    "from nltk.stem import PorterStemmer\n",
    "from sklearn.decomposition import PCA\n",
    "import matplotlib.pyplot as plt\n",
    "import nltk"
   ]
  },
  {
   "cell_type": "code",
   "execution_count": 11,
   "id": "f91f72ed-2568-4adf-a93c-4cd33ee85a73",
   "metadata": {},
   "outputs": [],
   "source": [
    "custom_stopwords = {\n",
    "    \"i\", \"me\", \"my\", \"myself\", \"we\", \"our\", \"ours\", \"ourselves\", \"you\", \"your\",\n",
    "    \"yours\", \"yourself\", \"yourselves\", \"he\", \"him\", \"his\", \"himself\", \"she\",\n",
    "    \"her\", \"hers\", \"herself\", \"it\", \"its\", \"itself\", \"they\", \"them\", \"their\",\n",
    "    \"theirs\", \"themselves\", \"what\", \"which\", \"who\", \"whom\", \"this\", \"that\",\n",
    "    \"these\", \"those\", \"am\", \"is\", \"are\", \"was\", \"were\", \"be\", \"been\", \"being\",\n",
    "    \"have\", \"has\", \"had\", \"having\", \"do\", \"does\", \"did\", \"doing\", \"a\", \"an\",\n",
    "    \"the\", \"and\", \"but\", \"if\", \"or\", \"because\", \"as\", \"until\", \"while\", \"of\",\n",
    "    \"at\", \"by\", \"for\", \"with\", \"about\", \"against\", \"between\", \"into\", \"through\",\n",
    "    \"during\", \"before\", \"after\", \"above\", \"below\", \"to\", \"from\", \"up\", \"down\",\n",
    "    \"in\", \"out\", \"on\", \"off\", \"over\", \"under\", \"again\", \"further\", \"then\",\n",
    "    \"once\", \"here\", \"there\", \"when\", \"where\", \"why\", \"how\", \"all\", \"any\",\n",
    "    \"both\", \"each\", \"few\", \"more\", \"most\", \"other\", \"some\", \"such\", \"no\",\n",
    "    \"nor\", \"not\", \"only\", \"own\", \"same\", \"so\", \"than\", \"too\", \"very\", \"s\",\n",
    "    \"t\", \"can\", \"will\", \"just\", \"don\", \"should\", \"now\"\n",
    "}"
   ]
  },
  {
   "cell_type": "code",
   "execution_count": 13,
   "id": "d695864c-eae4-4734-b7f6-ef99c1bbe7ec",
   "metadata": {},
   "outputs": [],
   "source": [
    "def preprocess_text(doc):\n",
    "    stemmer = PorterStemmer()\n",
    "    doc = str(doc).lower()\n",
    "    doc = re.sub(r'[^a-z\\s]', '', doc)\n",
    "    tokens = doc.split()\n",
    "    tokens = [stemmer.stem(word) for word in tokens if word not in custom_stopwords]\n",
    "    return ' '.join(tokens)"
   ]
  },
  {
   "cell_type": "code",
   "execution_count": 15,
   "id": "f80a20a9-dc23-4ab7-824d-d7546389e3c5",
   "metadata": {},
   "outputs": [],
   "source": [
    "# Apply preprocessing\n",
    "df['processed_text'] = df['text'].apply(preprocess_text)"
   ]
  },
  {
   "cell_type": "code",
   "execution_count": null,
   "id": "ffdd7b57-44bd-4605-8c02-b30bcabfe431",
   "metadata": {},
   "outputs": [],
   "source": []
  }
 ],
 "metadata": {
  "kernelspec": {
   "display_name": "Python 3 (ipykernel)",
   "language": "python",
   "name": "python3"
  },
  "language_info": {
   "codemirror_mode": {
    "name": "ipython",
    "version": 3
   },
   "file_extension": ".py",
   "mimetype": "text/x-python",
   "name": "python",
   "nbconvert_exporter": "python",
   "pygments_lexer": "ipython3",
   "version": "3.12.4"
  }
 },
 "nbformat": 4,
 "nbformat_minor": 5
}
